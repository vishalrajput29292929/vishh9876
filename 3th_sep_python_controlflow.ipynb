{
 "cells": [
  {
   "cell_type": "code",
   "execution_count": 1,
   "id": "78d555e3-983c-4d64-925c-7c924dee3c36",
   "metadata": {},
   "outputs": [],
   "source": [
    "#1. Write a Python program to check if a given number is positive or negative."
   ]
  },
  {
   "cell_type": "code",
   "execution_count": 2,
   "id": "0403173b-b420-4e53-b840-0ededae0754c",
   "metadata": {},
   "outputs": [
    {
     "name": "stdout",
     "output_type": "stream",
     "text": [
      "the given number is positive\n"
     ]
    }
   ],
   "source": [
    "x = 10\n",
    "if x>=10 :\n",
    "    print('the given number is positive')\n",
    "elif x<=10:\n",
    "        print('the number is negative')"
   ]
  },
  {
   "cell_type": "code",
   "execution_count": 3,
   "id": "6e754b13-7f61-40d9-8bdd-6376a07a8240",
   "metadata": {},
   "outputs": [],
   "source": [
    "#2. Create a program that determines if a person is eligible to vote based on their age."
   ]
  },
  {
   "cell_type": "code",
   "execution_count": 4,
   "id": "c79d49f7-023e-4ef6-9d0a-6b758e682526",
   "metadata": {},
   "outputs": [
    {
     "name": "stdin",
     "output_type": "stream",
     "text": [
      "enter the age 63\n"
     ]
    }
   ],
   "source": [
    "age = int(input('enter the age'))\n",
    "if age < 0:\n",
    "    print('not eligible for vote')\n",
    "elif 0<=age<=17:\n",
    "    print('not eligible')\n",
    "elif 17<=age<=24:\n",
    "    print('the person is eligible for vote')"
   ]
  },
  {
   "cell_type": "code",
   "execution_count": 5,
   "id": "8f3a2cbc-de2f-4897-804e-00c61f348bb9",
   "metadata": {},
   "outputs": [],
   "source": [
    "#3. Develop a program to find the maximum of two numbers using if-else statements."
   ]
  },
  {
   "cell_type": "code",
   "execution_count": 6,
   "id": "90f2853a-ad84-427b-938c-3caaa0218834",
   "metadata": {},
   "outputs": [
    {
     "name": "stdin",
     "output_type": "stream",
     "text": [
      "enter the  first number 1\n",
      "enter the second number 32\n"
     ]
    },
    {
     "name": "stdout",
     "output_type": "stream",
     "text": [
      "largest number is  32\n"
     ]
    }
   ],
   "source": [
    "num1 = int(input('enter the  first number'))\n",
    "num2 = int(input('enter the second number'))\n",
    "if num1>=num2:\n",
    "    largest = num1\n",
    "    print('largest number is',largest)\n",
    "elif num1<=num2:\n",
    "    largest = num2\n",
    "    print('largest number is ', largest)\n",
    "\n",
    "          "
   ]
  },
  {
   "cell_type": "code",
   "execution_count": 7,
   "id": "5d8d1b8c-121d-4f2f-a818-0a6f8c44d8f6",
   "metadata": {},
   "outputs": [],
   "source": [
    "#4. Write a Python script to classify a given year as a leap year or not."
   ]
  },
  {
   "cell_type": "code",
   "execution_count": 8,
   "id": "46387a86-917c-42c5-af4e-acd2136106bd",
   "metadata": {},
   "outputs": [
    {
     "name": "stdin",
     "output_type": "stream",
     "text": [
      "Enter year to be checked: 213\n"
     ]
    },
    {
     "name": "stdout",
     "output_type": "stream",
     "text": [
      "The year isn't a leap year!\n"
     ]
    }
   ],
   "source": [
    "year=int(input(\"Enter year to be checked:\")) \n",
    "if(year%4==0 and year%100!=0 or year%400==0):\n",
    "    print(\"The year is a leap year!\")\n",
    "else: print(\"The year isn't a leap year!\")"
   ]
  },
  {
   "cell_type": "code",
   "execution_count": 9,
   "id": "3921f8c2-a8eb-4657-b539-5802d244cdd2",
   "metadata": {},
   "outputs": [],
   "source": [
    "#5. Create a program that checks whether a character is a vowel or a consonant."
   ]
  },
  {
   "cell_type": "code",
   "execution_count": 10,
   "id": "b8bb939c-968c-46d8-8d79-87ef6d518e4d",
   "metadata": {},
   "outputs": [
    {
     "name": "stdin",
     "output_type": "stream",
     "text": [
      "enter an character \n"
     ]
    },
    {
     "name": "stdout",
     "output_type": "stream",
     "text": [
      " is a consonant\n"
     ]
    }
   ],
   "source": [
    "c = input('enter an character')\n",
    "\n",
    "# checking for vowels\n",
    "if c == 'a' or c == 'e' or c == 'i' or c == 'o' or c == 'u' or c == 'A' or c == 'E' or c == 'I' or c == 'O' or c == 'U':\n",
    "    print(c, \"is a vowel\")  # condition true input is vowel\n",
    "else:\n",
    "    print(c, \"is a consonant\")  # condition true input is consonant\n"
   ]
  },
  {
   "cell_type": "code",
   "execution_count": 11,
   "id": "329117e8-7d2f-427d-9ac3-0d4286a395b7",
   "metadata": {},
   "outputs": [],
   "source": [
    "#6. Implement a program to determine whether a given number is even or odd."
   ]
  },
  {
   "cell_type": "code",
   "execution_count": 12,
   "id": "cf2d4658-4914-43f0-b6b4-1e6bf0848924",
   "metadata": {},
   "outputs": [
    {
     "name": "stdin",
     "output_type": "stream",
     "text": [
      "enter an given number 23\n"
     ]
    },
    {
     "name": "stdout",
     "output_type": "stream",
     "text": [
      "given number is odd number\n"
     ]
    }
   ],
   "source": [
    "num = int(input('enter an given number'))\n",
    "if num%2 == 0:\n",
    "    print('given number is even number')\n",
    "else:\n",
    "    print('given number is odd number')"
   ]
  },
  {
   "cell_type": "code",
   "execution_count": 13,
   "id": "47c00910-fe52-4d9b-80a3-29ae371e528c",
   "metadata": {},
   "outputs": [],
   "source": [
    "#7. Write a Python function to calculate the absolute value of a number without using the `abs()` function."
   ]
  },
  {
   "cell_type": "code",
   "execution_count": 14,
   "id": "5b2c5a69-4fa7-4164-8cdc-73caaebeb9ae",
   "metadata": {},
   "outputs": [
    {
     "name": "stdout",
     "output_type": "stream",
     "text": [
      "10\n",
      "20\n",
      "0\n"
     ]
    }
   ],
   "source": [
    "def absolute_value(num):\n",
    "    \"\"\"This function returns the absolute\n",
    "    value of the entered number\"\"\"\n",
    "\n",
    "    if num >= 0:\n",
    "        return num\n",
    "    else:\n",
    "        return -num\n",
    "\n",
    "# Test the function with positive, negative, and zero values\n",
    "print(absolute_value(10))  \n",
    "print(absolute_value(-20))  \n",
    "print(absolute_value(0))  \n"
   ]
  },
  {
   "cell_type": "code",
   "execution_count": 15,
   "id": "e0c71d99-c9db-46d3-b0a9-a9c8e85091ff",
   "metadata": {},
   "outputs": [],
   "source": [
    "#8. Develop a program that determines the largest of three given numbers using if-else statements."
   ]
  },
  {
   "cell_type": "code",
   "execution_count": 16,
   "id": "ab53819c-0ba3-425c-aac5-6a105683d5b1",
   "metadata": {},
   "outputs": [
    {
     "name": "stdout",
     "output_type": "stream",
     "text": [
      "largest number is 30\n"
     ]
    }
   ],
   "source": [
    "num1=10\n",
    "num2=20\n",
    "num3=30\n",
    "\n",
    "\n",
    "if (num1>=num2) and (num1>=num3):\n",
    "    largest=num1\n",
    "    print(\"largest number is\",largest)\n",
    "elif (num2>=num1) and (num2>=num3):\n",
    "    largest=num2\n",
    "    print(\"largest number is\",largest)\n",
    "else:\n",
    "    largest=num3\n",
    "    print(\"largest number is\",largest)"
   ]
  },
  {
   "cell_type": "code",
   "execution_count": 17,
   "id": "b3ff0466-b549-4d66-9787-195b84c8a9dd",
   "metadata": {},
   "outputs": [],
   "source": [
    "#9. Create a program that checks if a given string is a palindrome."
   ]
  },
  {
   "cell_type": "code",
   "execution_count": 18,
   "id": "a3b06684-2136-4728-bd3b-1f4d2aec7db9",
   "metadata": {},
   "outputs": [
    {
     "name": "stdout",
     "output_type": "stream",
     "text": [
      "given string is not palindrom\n"
     ]
    }
   ],
   "source": [
    "s = 'vish'\n",
    "s1 ='hsiv'\n",
    "if s == s1:\n",
    "    print('given string is palindrom')\n",
    "else:\n",
    "    print('given string is not palindrom')"
   ]
  },
  {
   "cell_type": "code",
   "execution_count": 19,
   "id": "e116b0c4-f36a-4fe4-84a1-0d96ed2651f8",
   "metadata": {},
   "outputs": [],
   "source": [
    "#10. Write a Python program to calculate the grade based on a student's score."
   ]
  },
  {
   "cell_type": "code",
   "execution_count": 21,
   "id": "4917c236-522c-485f-bbdb-de3159729da2",
   "metadata": {},
   "outputs": [
    {
     "name": "stdin",
     "output_type": "stream",
     "text": [
      "enter the score 323\n",
      "enter the score 4\n"
     ]
    },
    {
     "name": "stdout",
     "output_type": "stream",
     "text": [
      "excellent score with grade +a\n"
     ]
    }
   ],
   "source": [
    "student1 = int(input('enter the score'))\n",
    "student2 = int(input('enter the score'))\n",
    "\n",
    "\n",
    "if student1 >=90:\n",
    "    print('excellent score with grade +a')\n",
    "elif student2 <=90:\n",
    "    print('good score with grade b+')\n",
    "else:\n",
    "    print('score is not given')"
   ]
  },
  {
   "cell_type": "code",
   "execution_count": null,
   "id": "9b7c76e7-7e81-4061-afa2-eb0401d52ac5",
   "metadata": {},
   "outputs": [],
   "source": [
    "# nested if-else"
   ]
  },
  {
   "cell_type": "code",
   "execution_count": null,
   "id": "9ac4560e-8b01-4fae-8521-e856681bed62",
   "metadata": {},
   "outputs": [],
   "source": [
    "#11. Write a program to find the largest among three numbers using nested if-else statements."
   ]
  },
  {
   "cell_type": "code",
   "execution_count": 11,
   "id": "3ce12c5f-2b65-412f-b934-aa32edec4c16",
   "metadata": {},
   "outputs": [
    {
     "name": "stdout",
     "output_type": "stream",
     "text": [
      "largest number is 30\n"
     ]
    }
   ],
   "source": [
    "num1=10\n",
    "num2=20\n",
    "num3=30\n",
    "\n",
    "\n",
    "if (num1>=num2) and (num1>=num3):\n",
    "    largest=num1\n",
    "    print(\"largest number is\",largest)\n",
    "elif (num2>=num1) and (num2>=num3):\n",
    "    largest=num2\n",
    "    print(\"largest number is\",largest)\n",
    "else:\n",
    "    largest=num3\n",
    "    print(\"largest number is\",largest)"
   ]
  },
  {
   "cell_type": "code",
   "execution_count": null,
   "id": "53f5ce3d-cbc3-437d-92c5-46f03d7f628f",
   "metadata": {},
   "outputs": [],
   "source": [
    "#12. Implement a program to determine if a triangle is equilateral, isosceles, or scalene."
   ]
  },
  {
   "cell_type": "code",
   "execution_count": 10,
   "id": "49c99954-346c-414a-95e7-6f1c17a0792c",
   "metadata": {},
   "outputs": [
    {
     "name": "stdin",
     "output_type": "stream",
     "text": [
      "enter the side of tringle 3\n",
      "enter the side of tringle 2\n",
      "enter the side of tringle 3\n"
     ]
    },
    {
     "name": "stdout",
     "output_type": "stream",
     "text": [
      "given triangle is scalene triangle\n"
     ]
    }
   ],
   "source": [
    "side1 = int(input('enter the side of tringle'))\n",
    "side2 = int(input('enter the side of tringle'))\n",
    "side3 = int(input('enter the side of tringle'))\n",
    "if side1 == side2 == side3:\n",
    "    print('given triangle is equilateral triangle')\n",
    "elif side1 == side2 != side3:\n",
    "    print('given triangle is isoceles triangle')\n",
    "elif side1 != side2 != side3:\n",
    "    print('given triangle is scalene triangle')\n"
   ]
  },
  {
   "cell_type": "code",
   "execution_count": null,
   "id": "aa856244-402f-41a6-959c-d6b2142ae1e4",
   "metadata": {},
   "outputs": [],
   "source": [
    "#13. Develop a program that checks if a year is a leap year and also if it is a century year."
   ]
  },
  {
   "cell_type": "code",
   "execution_count": 12,
   "id": "169a09e0-2b57-4983-b075-01c43bdbc1d3",
   "metadata": {},
   "outputs": [
    {
     "name": "stdin",
     "output_type": "stream",
     "text": [
      "enter an year 2333\n",
      "enter an year 435\n"
     ]
    },
    {
     "name": "stdout",
     "output_type": "stream",
     "text": [
      "2000 is a leap year\n"
     ]
    }
   ],
   "source": [
    "year1 = int(input('enter an year'))\n",
    "year2 = int(input('enter an year'))\n",
    "\n",
    "\n",
    "# To get year (integer input) from the user\n",
    "# year = int(input(\"Enter a year: \"))\n",
    "\n",
    "# divided by 100 means century year (ending with 00)\n",
    "# century year divided by 400 is leap year\n",
    "if (year % 400 == 0) and (year % 100 == 0):\n",
    "    print(\"{0} is a leap year\".format(year))\n",
    "\n",
    "# not divided by 100 means not a century year\n",
    "# year divided by 4 is a leap year\n",
    "elif (year % 4 ==0) and (year2 % 100 != 0):\n",
    "    print(\"{0} is a leap year\".format(year))\n",
    "\n",
    "# if not divided by both 400 (century year) and 4 (not century year)\n",
    "# year is not leap year\n",
    "else:\n",
    "    print(\"{0} is not a leap year\".format(year))"
   ]
  },
  {
   "cell_type": "code",
   "execution_count": null,
   "id": "a4ed3f27-fdb7-4984-9d39-9dd725f7138c",
   "metadata": {},
   "outputs": [],
   "source": [
    "#14. Write a Python script to determine if a number is positive, negative, or zero."
   ]
  },
  {
   "cell_type": "code",
   "execution_count": 13,
   "id": "ecd5ac79-0bc6-4872-bb5c-ba4f5f1f548d",
   "metadata": {},
   "outputs": [
    {
     "name": "stdin",
     "output_type": "stream",
     "text": [
      "enter a number 23\n"
     ]
    },
    {
     "name": "stdout",
     "output_type": "stream",
     "text": [
      "the number is positive\n"
     ]
    }
   ],
   "source": [
    "num = int(input('enter a number'))\n",
    "if num<=0:\n",
    "    print(' the number is negative ')\n",
    "elif num>=0:\n",
    "    print('the number is positive')\n",
    "elif num == 0:\n",
    "    print('the number is zero')"
   ]
  },
  {
   "cell_type": "code",
   "execution_count": null,
   "id": "4f236ef4-31ce-4880-99a1-edf84723ab58",
   "metadata": {},
   "outputs": [],
   "source": [
    "#15. Create a program to check if a person is a teenager (between 13 and 19 years old)."
   ]
  },
  {
   "cell_type": "code",
   "execution_count": 14,
   "id": "093fe76e-f6a7-4e1f-a584-4d65f2eecc12",
   "metadata": {},
   "outputs": [
    {
     "name": "stdin",
     "output_type": "stream",
     "text": [
      " enter the age of person 17\n"
     ]
    },
    {
     "name": "stdout",
     "output_type": "stream",
     "text": [
      "the person is teenager\n"
     ]
    }
   ],
   "source": [
    "age = int(input(' enter the age of person'))\n",
    "if 1<=age<=6 :\n",
    "    print(' the person is baby')\n",
    "elif 6<=age<=12:\n",
    "    print(' the person is middle age')\n",
    "elif 13<=age<=19:\n",
    "    print('the person is teenager')\n",
    "elif 19<=age<=23:\n",
    "    print('the person is adult')"
   ]
  },
  {
   "cell_type": "code",
   "execution_count": null,
   "id": "400c13ce-44ab-450b-836a-3b8f882497a2",
   "metadata": {},
   "outputs": [],
   "source": [
    "#16. Develop a program that determines the type of angle based on its measure (acute, obtuse, or right)."
   ]
  },
  {
   "cell_type": "code",
   "execution_count": 15,
   "id": "52f33545-6c13-4644-8699-fd8f3a06cbd4",
   "metadata": {},
   "outputs": [
    {
     "name": "stdin",
     "output_type": "stream",
     "text": [
      "enter an angle 80\n"
     ]
    },
    {
     "name": "stdout",
     "output_type": "stream",
     "text": [
      "the angle is acute\n"
     ]
    }
   ],
   "source": [
    "angle = int(input('enter an angle'))\n",
    "if angle <= 90:\n",
    "    print('the angle is acute')\n",
    "elif 90<=angle<=180 :\n",
    "    print('the angle is obtuse')\n",
    "elif angle == 90:\n",
    "    print('the angle is right angle')"
   ]
  },
  {
   "cell_type": "code",
   "execution_count": 25,
   "id": "948bf5ae-f18e-48a3-b3b5-2763f36cde47",
   "metadata": {},
   "outputs": [],
   "source": [
    "#17. Write a Python program to calculate the roots of a quadratic equation."
   ]
  },
  {
   "cell_type": "code",
   "execution_count": 1,
   "id": "271de016-ed5f-4e3a-98b8-0a1d9ed7fcdc",
   "metadata": {},
   "outputs": [
    {
     "name": "stdout",
     "output_type": "stream",
     "text": [
      "Quadratic function : (a * x^2) + b*x + c\n"
     ]
    },
    {
     "name": "stdin",
     "output_type": "stream",
     "text": [
      "Enter the a Number : 1\n",
      "Enter the b Number : 3\n",
      "Enter the c Number : 2\n"
     ]
    },
    {
     "name": "stdout",
     "output_type": "stream",
     "text": [
      "There are Two Roots:  -1.0 and -2.0\n"
     ]
    }
   ],
   "source": [
    "from math import sqrt\n",
    " \n",
    "print(\"Quadratic function : (a * x^2) + b*x + c\")\n",
    "a = float(input(\"Enter the a Number :\"))\n",
    "b = float(input(\"Enter the b Number :\"))\n",
    "c = float(input(\"Enter the c Number :\"))\n",
    " \n",
    "r = b**2 - 4*a*c\n",
    " \n",
    "if( r > 0):\n",
    "    num_roots = 2\n",
    "    x1 = (((-b) + sqrt(r))/(2*a))     \n",
    "    x2 = (((-b) - sqrt(r))/(2*a))\n",
    "    print(\"There are Two Roots: \",x1, \"and\",x2)\n",
    "elif(r == 0):\n",
    "    num_roots = 1\n",
    "    x = (-b) / 2*a\n",
    "    print(\"There is one Root: \", x)\n",
    "else:\n",
    "    num_roots = 0\n",
    "    print(\"No roots\")\n",
    "    exit()"
   ]
  },
  {
   "cell_type": "code",
   "execution_count": 2,
   "id": "9a75a5f4-c672-4df6-b838-d58694c4597a",
   "metadata": {},
   "outputs": [],
   "source": [
    "#18. Implement a program to determine the day of the week based on a user-provided number (1 for Monday, 2for Tuesday, etc.)."
   ]
  },
  {
   "cell_type": "code",
   "execution_count": 3,
   "id": "3e220a4b-4961-4d93-9ded-9ef60b1635fe",
   "metadata": {},
   "outputs": [
    {
     "name": "stdin",
     "output_type": "stream",
     "text": [
      "enter a number 4\n"
     ]
    },
    {
     "name": "stdout",
     "output_type": "stream",
     "text": [
      "thursday\n"
     ]
    }
   ],
   "source": [
    "num = int(input('enter a number'))\n",
    "if num == 1:\n",
    "    print('monday')\n",
    "elif num == 2:\n",
    "    print('tuesday')\n",
    "elif num == 3:\n",
    "    print('wednesday')\n",
    "elif num == 4:\n",
    "    print('thursday')\n",
    "elif num == 5:\n",
    "    print('friday')\n",
    "elif num == 6:\n",
    "    print('saturday')\n",
    "elif num == 7:\n",
    "    print('sunday') "
   ]
  },
  {
   "cell_type": "code",
   "execution_count": 4,
   "id": "7ece5fcd-5f92-4a0d-98d8-5b6284c22cf2",
   "metadata": {},
   "outputs": [],
   "source": [
    "#19. Create a program that determines if a year is a leap year and also if it is evenly divisible by 400."
   ]
  },
  {
   "cell_type": "code",
   "execution_count": 5,
   "id": "0e2f091e-29b8-4738-86a5-b09cb6f9408d",
   "metadata": {},
   "outputs": [
    {
     "name": "stdout",
     "output_type": "stream",
     "text": [
      "2000 is a leap year\n"
     ]
    }
   ],
   "source": [
    "year = 2000\n",
    "\n",
    "# To get year (integer input) from the user\n",
    "# year = int(input(\"Enter a year: \"))\n",
    "\n",
    "# divided by 100 means century year (ending with 00)\n",
    "# century year divided by 400 is leap year\n",
    "if (year % 400 == 0) and (year % 100 == 0):\n",
    "    print(\"{0} is a leap year\".format(year))\n",
    "\n",
    "# not divided by 100 means not a century year\n",
    "# year divided by 4 is a leap year\n",
    "elif (year % 4 ==0) and (year % 100 != 0):\n",
    "    print(\"{0} is a leap year\".format(year))\n",
    "\n",
    "# if not divided by both 400 (century year) and 4 (not century year)\n",
    "# year is not leap year\n",
    "else:\n",
    "    print(\"{0} is not a leap year\".format(year))"
   ]
  },
  {
   "cell_type": "code",
   "execution_count": 6,
   "id": "da54b4b4-a84e-422b-b3f9-b34b6d336fa7",
   "metadata": {},
   "outputs": [],
   "source": [
    "#20. Develop a program that checks if a given number is prime or not using nested if-else statements."
   ]
  },
  {
   "cell_type": "code",
   "execution_count": 7,
   "id": "61461936-e307-4e95-934f-cb0f59021e4f",
   "metadata": {},
   "outputs": [
    {
     "name": "stdin",
     "output_type": "stream",
     "text": [
      "enter a number 5\n"
     ]
    },
    {
     "name": "stdout",
     "output_type": "stream",
     "text": [
      "5 is a prime number\n"
     ]
    }
   ],
   "source": [
    "num = int(input('enter a number'))\n",
    "# If given number is greater than 1\n",
    "if num > 1:\n",
    "    # Iterate from 2 to n / 2\n",
    "    for i in range(2, int(num/2)+1):\n",
    "        # If num is divisible by any number between\n",
    "        # 2 and n / 2, it is not prime\n",
    "        if (num % i) == 0:\n",
    "            print(num, \"is not a prime number\")\n",
    "            break\n",
    "    else:\n",
    "        print(num, \"is a prime number\")\n",
    "else:\n",
    "    print(num, \"is not a prime number\")"
   ]
  },
  {
   "cell_type": "code",
   "execution_count": 8,
   "id": "10c2a6d3-8c78-4ac9-acc3-87498c337ccb",
   "metadata": {},
   "outputs": [],
   "source": [
    "# elif "
   ]
  },
  {
   "cell_type": "code",
   "execution_count": 9,
   "id": "25f57cce-af9c-4e16-9fbb-104fa1aad69d",
   "metadata": {},
   "outputs": [],
   "source": [
    "#21. Write a Python program to assign grades based on different ranges of scores using elif statements."
   ]
  },
  {
   "cell_type": "code",
   "execution_count": 23,
   "id": "0b5f939d-94e7-4ddc-b95f-9bfd311e3f6c",
   "metadata": {},
   "outputs": [
    {
     "name": "stdin",
     "output_type": "stream",
     "text": [
      " enter a grade  78\n"
     ]
    },
    {
     "name": "stdout",
     "output_type": "stream",
     "text": [
      "+B\n"
     ]
    }
   ],
   "source": [
    "grade = int(input(' enter a grade '))\n",
    "if 10<=grade<=30:\n",
    "    print('F')\n",
    "elif  30<=grade<=40:\n",
    "    print('E')\n",
    "elif  40<=grade<=50:\n",
    "    print('D')\n",
    "elif 50<=grade<=60:\n",
    "    print('c')\n",
    "elif 60<=grade<=70:\n",
    "    print('b')\n",
    "elif  70<=grade<=80:\n",
    "    print('+B')\n",
    "elif 80<=grade<=90:\n",
    "    print('A')\n",
    "elif 90<=grade<=100:\n",
    "    print('+A')"
   ]
  },
  {
   "cell_type": "code",
   "execution_count": 24,
   "id": "575e7e29-fd2b-46db-9897-fef4cdd67558",
   "metadata": {},
   "outputs": [],
   "source": [
    "#22. Implement a program to determine the type of a triangle based on its angles."
   ]
  },
  {
   "cell_type": "code",
   "execution_count": 26,
   "id": "614c2545-1286-478a-9c45-09b45861a089",
   "metadata": {},
   "outputs": [
    {
     "name": "stdin",
     "output_type": "stream",
     "text": [
      "enter the side of tringle 1\n",
      "enter the side of tringle 1\n",
      "enter the side of tringle 1\n"
     ]
    },
    {
     "name": "stdout",
     "output_type": "stream",
     "text": [
      "given triangle is equilateral triangle\n"
     ]
    }
   ],
   "source": [
    "side1 = int(input('enter the side of tringle'))\n",
    "side2 = int(input('enter the side of tringle'))\n",
    "side3 = int(input('enter the side of tringle'))\n",
    "if side1 == side2 == side3:\n",
    "    print('given triangle is equilateral triangle')\n",
    "elif side1 == side2 != side3:\n",
    "    print('given triangle is isoceles triangle')\n",
    "elif side1 != side2 != side3:\n",
    "    print('given triangle is scalene triangle')\n"
   ]
  },
  {
   "cell_type": "code",
   "execution_count": 27,
   "id": "c6b7aaec-85e2-40e1-9423-57481db084a3",
   "metadata": {},
   "outputs": [],
   "source": [
    "#23. Develop a program to categorize a given person's BMI into underweight, normal, overweight, or obese usingelif statements."
   ]
  },
  {
   "cell_type": "code",
   "execution_count": 32,
   "id": "d651438b-eded-4974-b476-cff91197a6bb",
   "metadata": {},
   "outputs": [
    {
     "name": "stdin",
     "output_type": "stream",
     "text": [
      "enter a bmi of a person 25\n"
     ]
    },
    {
     "name": "stdout",
     "output_type": "stream",
     "text": [
      "overweight\n"
     ]
    }
   ],
   "source": [
    "bmi = float(input('enter a bmi of a person'))\n",
    "if bmi<18.5:\n",
    "    print ('underweight')\n",
    "elif 18.5<=bmi<=24.9:\n",
    "    print('normal')\n",
    "elif 24.9<=bmi<=29.9:\n",
    "    print('overweight')\n",
    "elif bmi>=30.1:\n",
    "    print('obesty')"
   ]
  },
  {
   "cell_type": "code",
   "execution_count": 33,
   "id": "96905e5d-88dc-42b2-a105-453276a222d1",
   "metadata": {},
   "outputs": [],
   "source": [
    "#24. Create a program that determines whether a given number is positive, negative, or zero using elifstatements."
   ]
  },
  {
   "cell_type": "code",
   "execution_count": 34,
   "id": "a88957f5-ca5d-4281-837f-3592eb65e414",
   "metadata": {},
   "outputs": [
    {
     "name": "stdin",
     "output_type": "stream",
     "text": [
      "enter a number 4\n"
     ]
    },
    {
     "name": "stdout",
     "output_type": "stream",
     "text": [
      "the number is positive\n"
     ]
    }
   ],
   "source": [
    "num = int(input('enter a number'))\n",
    "if num<=0:\n",
    "    print(' the number is negative ')\n",
    "elif num>=0:\n",
    "    print('the number is positive')\n",
    "elif num == 0:\n",
    "    print('the number is zero')"
   ]
  },
  {
   "cell_type": "code",
   "execution_count": 36,
   "id": "773cb31a-2ef1-4faf-9cd4-52b69efc8da9",
   "metadata": {},
   "outputs": [],
   "source": [
    "#25. Write a Python script to determine the type of a character (uppercase, lowercase, or special) using elifstatements."
   ]
  },
  {
   "cell_type": "code",
   "execution_count": 37,
   "id": "918f948f-5776-4c5b-b63e-1f4876ecdfba",
   "metadata": {},
   "outputs": [
    {
     "name": "stdout",
     "output_type": "stream",
     "text": [
      "Original String :  The quick Brown Fox\n",
      "No. of Upper case characters :  3\n",
      "No. of Lower case Characters :  13\n"
     ]
    }
   ],
   "source": [
    "def string_test(s):\n",
    "    d={\"UPPER_CASE\":0, \"LOWER_CASE\":0}\n",
    "    for c in s:\n",
    "        if c.isupper():\n",
    "           d[\"UPPER_CASE\"]+=1\n",
    "        elif c.islower():\n",
    "           d[\"LOWER_CASE\"]+=1\n",
    "        else:\n",
    "           pass\n",
    "    print (\"Original String : \", s)\n",
    "    print (\"No. of Upper case characters : \", d[\"UPPER_CASE\"])\n",
    "    print (\"No. of Lower case Characters : \", d[\"LOWER_CASE\"])\n",
    "\n",
    "string_test('The quick Brown Fox')\n"
   ]
  },
  {
   "cell_type": "code",
   "execution_count": 38,
   "id": "7924e2a5-d270-4670-9827-78a0997aeb9d",
   "metadata": {},
   "outputs": [],
   "source": [
    "#26. Implement a program to calculate the discounted price based on different purchase amounts using elifstatements."
   ]
  },
  {
   "cell_type": "code",
   "execution_count": 53,
   "id": "1bb0fd94-3c68-4800-be52-f1718c55bfc5",
   "metadata": {},
   "outputs": [
    {
     "name": "stdin",
     "output_type": "stream",
     "text": [
      " enter an amount 5\n"
     ]
    },
    {
     "name": "stdout",
     "output_type": "stream",
     "text": [
      "you won discounted price of 2 rupees\n"
     ]
    }
   ],
   "source": [
    "amount = int(input(' enter an amount'))\n",
    "if amount >= 500:\n",
    "    print('you won discounted price of 40 rupees')\n",
    "elif 400<=amount<=500:\n",
    "    print('you won discounted price of 10 rupees')\n",
    "elif 100<=amount<=400:\n",
    "    print('you won discounted price of 5 rupees')\n",
    "elif 5<= amount<=400:\n",
    "    print('you won discounted price of 2 rupees')\n",
    "    "
   ]
  },
  {
   "cell_type": "code",
   "execution_count": 54,
   "id": "5cae8a50-a28e-408f-9c8c-6490f428295a",
   "metadata": {},
   "outputs": [],
   "source": [
    "#27. Develop a program to calculate the electricity bill based on different consumption slabs using elifstatements."
   ]
  },
  {
   "cell_type": "code",
   "execution_count": 55,
   "id": "5126a6e3-f16e-4e5a-882c-bbc2f87630c3",
   "metadata": {},
   "outputs": [
    {
     "name": "stdin",
     "output_type": "stream",
     "text": [
      "Enter your unit:  200\n"
     ]
    },
    {
     "name": "stdout",
     "output_type": "stream",
     "text": [
      "Bill Per Unit: 1089.0\n",
      "Bill after adding Line rent: 1379.0\n",
      "Bill after adding Meter rent: 1479.0\n",
      "Total Bill after adding tax: 1715.64\n"
     ]
    }
   ],
   "source": [
    "unit = int(input(\"Enter your unit: \"))\n",
    "if unit <= 100:\n",
    "    bill = unit * 3.46\n",
    "elif unit >= 101 and unit <= 300:\n",
    "    bill = 346 + ((unit - 100) * 7.43)\n",
    "elif unit >= 301 and unit <= 500:\n",
    "    bill = 346 + 1486 + ((unit - 300) * 10.32)\n",
    "else:\n",
    "    bill = 346 + 1486 + 2064 + ((unit - 500) * 11.71)\n",
    "print(\"Bill Per Unit:\",bill)\n",
    "bill = bill + (unit*1.45)\n",
    "print(\"Bill after adding Line rent:\",bill)\n",
    "bill = bill + 100\n",
    "print(\"Bill after adding Meter rent:\",bill)\n",
    "bill = bill + (bill*0.16)\n",
    "print(\"Total Bill after adding tax:\",bill)"
   ]
  },
  {
   "cell_type": "code",
   "execution_count": 57,
   "id": "2c879acd-c8d6-4b5c-bbc7-071217158a73",
   "metadata": {},
   "outputs": [],
   "source": [
    "#28. Create a program to determine the type of quadrilateral based on its angles and sides using elif statements."
   ]
  },
  {
   "cell_type": "code",
   "execution_count": 2,
   "id": "c5053302-66d0-4f57-ac34-5d1361b7e91d",
   "metadata": {},
   "outputs": [
    {
     "name": "stdout",
     "output_type": "stream",
     "text": [
      "Input lengths of the triangle sides: \n"
     ]
    },
    {
     "name": "stdin",
     "output_type": "stream",
     "text": [
      "x:  6\n",
      "y:  6\n",
      "z:  7\n"
     ]
    },
    {
     "name": "stdout",
     "output_type": "stream",
     "text": [
      "isosceles triangle\n"
     ]
    }
   ],
   "source": [
    "print(\"Input lengths of the triangle sides: \")\n",
    "x = int(input(\"x: \"))\n",
    "y = int(input(\"y: \"))\n",
    "z = int(input(\"z: \"))\n",
    "\n",
    "if x == y == z:\n",
    "\tprint(\"Equilateral triangle\")\n",
    "elif x==y or y==z or z==x:\n",
    "\tprint(\"isosceles triangle\")\n",
    "else:\n",
    "\tprint(\"Scalene triangle\")"
   ]
  },
  {
   "cell_type": "code",
   "execution_count": 3,
   "id": "d20c2b99-f426-4bd5-9464-7ebeb3c7cfb5",
   "metadata": {},
   "outputs": [
    {
     "name": "stdin",
     "output_type": "stream",
     "text": [
      "Input the month (e.g. January, February etc.):  march\n",
      "Input the day:  19\n"
     ]
    },
    {
     "name": "stdout",
     "output_type": "stream",
     "text": [
      "Season is autumn\n"
     ]
    }
   ],
   "source": [
    "month = input(\"Input the month (e.g. January, February etc.): \")\n",
    "day = int(input(\"Input the day: \"))\n",
    "\n",
    "if month in ('January', 'February', 'March'):\n",
    "\tseason = 'winter'\n",
    "elif month in ('April', 'May', 'June'):\n",
    "\tseason = 'spring'\n",
    "elif month in ('July', 'August', 'September'):\n",
    "\tseason = 'summer'\n",
    "else:\n",
    "\tseason = 'autumn'\n",
    "\n",
    "if (month == 'March') and (day > 19):\n",
    "\tseason = 'spring'\n",
    "elif (month == 'June') and (day > 20):\n",
    "\tseason = 'summer'\n",
    "elif (month == 'September') and (day > 21):\n",
    "\tseason = 'autumn'\n",
    "elif (month == 'December') and (day > 20):\n",
    "\tseason = 'winter'\n",
    "\n",
    "print(\"Season is\",season)\n"
   ]
  },
  {
   "cell_type": "code",
   "execution_count": 4,
   "id": "458880ef-f7ac-4499-98ca-5d0950e4f431",
   "metadata": {},
   "outputs": [],
   "source": [
    "#30. Implement a program to determine the type of a year (leap or common) and month (30 or 31 days) usingelif statements."
   ]
  },
  {
   "cell_type": "code",
   "execution_count": 5,
   "id": "807c2a84-2067-40c3-b14f-aaf986b5cb16",
   "metadata": {},
   "outputs": [
    {
     "name": "stdout",
     "output_type": "stream",
     "text": [
      "Number of days is 31\n"
     ]
    }
   ],
   "source": [
    "month = 12\n",
    "year=2012\n",
    "    \n",
    "if((month==2) and ((year%4==0)  or ((year%100==0) and (year%400==0)))) :\n",
    "    print(\"Number of days is 29\");\n",
    "\n",
    "elif(month==2) :\n",
    "    print(\"Number of days is 28\");\n",
    "\n",
    "elif(month==1 or month==3 or month==5 or month==7 or month==8 or month==10 or month==12) :\n",
    "    print(\"Number of days is 31\");\n",
    "\n",
    "else :\n",
    "    print(\"Number of days is 30\");"
   ]
  },
  {
   "cell_type": "code",
   "execution_count": 6,
   "id": "f1853454-ebdb-4fca-ab36-0af94530b2fa",
   "metadata": {},
   "outputs": [],
   "source": [
    "#1. Write a Python program that checks if a given number is positive, negative, or zero."
   ]
  },
  {
   "cell_type": "code",
   "execution_count": 7,
   "id": "fb174bda-6759-4c92-bee1-ad9bbdd4e888",
   "metadata": {},
   "outputs": [
    {
     "name": "stdin",
     "output_type": "stream",
     "text": [
      "Enter a number:  8\n"
     ]
    },
    {
     "name": "stdout",
     "output_type": "stream",
     "text": [
      "Positive number\n"
     ]
    }
   ],
   "source": [
    "num = float(input(\"Enter a number: \"))\n",
    "if num > 0:\n",
    "   print(\"Positive number\")\n",
    "elif num == 0:\n",
    "   print(\"Zero\")\n",
    "else:\n",
    "   print(\"Negative number\")"
   ]
  },
  {
   "cell_type": "code",
   "execution_count": 8,
   "id": "8f3dcba9-fe81-41fa-8150-c8e69a08f20e",
   "metadata": {},
   "outputs": [],
   "source": [
    "#2. Create a program to determine if a person is eligible to vote based on their age."
   ]
  },
  {
   "cell_type": "code",
   "execution_count": 9,
   "id": "c40281fb-53f4-467b-ada0-59a8b13f3fab",
   "metadata": {},
   "outputs": [
    {
     "name": "stdin",
     "output_type": "stream",
     "text": [
      "Enter age :  19\n"
     ]
    },
    {
     "name": "stdout",
     "output_type": "stream",
     "text": [
      "Eligible for Voting!\n"
     ]
    }
   ],
   "source": [
    "age = int(input(\"Enter age : \"))\n",
    "\n",
    "if age >= 18:\n",
    "    print(\"Eligible for Voting!\")\n",
    "else:\n",
    "    print(\"Not Eligible for Voting!\")"
   ]
  },
  {
   "cell_type": "code",
   "execution_count": 10,
   "id": "fa66386e-1a75-45d6-bcda-76a40ff755c9",
   "metadata": {},
   "outputs": [],
   "source": [
    "#3. Write a program to find the maximum of two given numbers using conditional statements."
   ]
  },
  {
   "cell_type": "code",
   "execution_count": 11,
   "id": "59c7a786-c7b0-484e-b153-77edfc89c8bb",
   "metadata": {},
   "outputs": [
    {
     "name": "stdout",
     "output_type": "stream",
     "text": [
      "4\n"
     ]
    }
   ],
   "source": [
    "def maximum(a, b):\n",
    "     \n",
    "    if a >= b:\n",
    "        return a\n",
    "    else:\n",
    "        return b\n",
    "     \n",
    "# Driver code\n",
    "a = 2\n",
    "b = 4\n",
    "print(maximum(a, b))"
   ]
  },
  {
   "cell_type": "code",
   "execution_count": 12,
   "id": "e7e0246c-f1db-451e-a210-2cdf2763efd1",
   "metadata": {},
   "outputs": [],
   "source": [
    "#4. Develop a program that calculates the grade of a student based on their exam score."
   ]
  },
  {
   "cell_type": "code",
   "execution_count": 13,
   "id": "a6dbd66c-7fde-4050-bece-2e988761d794",
   "metadata": {},
   "outputs": [
    {
     "name": "stdout",
     "output_type": "stream",
     "text": [
      "Enter Marks Obtained in 5 Subjects: \n",
      "Your Grade is B1\n"
     ]
    }
   ],
   "source": [
    "print(\"Enter Marks Obtained in 5 Subjects: \")\n",
    "total1 = 44\n",
    "total2 = 67\n",
    "total3 = 76\n",
    "total4 = 99\n",
    "total5 = 58\n",
    " \n",
    "tot = total1 + total2 + total3 + total4 + total4\n",
    "avg = tot / 5\n",
    " \n",
    "if avg >= 91 and avg <= 100:\n",
    "    print(\"Your Grade is A1\")\n",
    "elif avg >= 81 and avg < 91:\n",
    "    print(\"Your Grade is A2\")\n",
    "elif avg >= 71 and avg < 81:\n",
    "    print(\"Your Grade is B1\")\n",
    "elif avg >= 61 and avg < 71:\n",
    "    print(\"Your Grade is B2\")\n",
    "elif avg >= 51 and avg < 61:\n",
    "    print(\"Your Grade is C1\")\n",
    "elif avg >= 41 and avg < 51:\n",
    "    print(\"Your Grade is C2\")\n",
    "elif avg >= 33 and avg < 41:\n",
    "    print(\"Your Grade is D\")\n",
    "elif avg >= 21 and avg < 33:\n",
    "    print(\"Your Grade is E1\")\n",
    "elif avg >= 0 and avg < 21:\n",
    "    print(\"Your Grade is E2\")\n",
    "else:\n",
    "    print(\"Invalid Input!\")"
   ]
  },
  {
   "cell_type": "code",
   "execution_count": 14,
   "id": "2e68e8a2-9131-4f64-b4df-f2ff8b2dcb1e",
   "metadata": {},
   "outputs": [],
   "source": [
    "#5. Create a program that checks if a year is a leap year or not."
   ]
  },
  {
   "cell_type": "code",
   "execution_count": 15,
   "id": "a2e8b32f-95b5-4b2e-93be-6c6fb707d98f",
   "metadata": {},
   "outputs": [
    {
     "name": "stdout",
     "output_type": "stream",
     "text": [
      "2000 is a leap year\n"
     ]
    }
   ],
   "source": [
    "\n",
    "\n",
    "year = 2000\n",
    "\n",
    "# To get year (integer input) from the user\n",
    "# year = int(input(\"Enter a year: \"))\n",
    "\n",
    "# divided by 100 means century year (ending with 00)\n",
    "# century year divided by 400 is leap year\n",
    "if (year % 400 == 0) and (year % 100 == 0):\n",
    "    print(\"{0} is a leap year\".format(year))\n",
    "\n",
    "# not divided by 100 means not a century year\n",
    "# year divided by 4 is a leap year\n",
    "elif (year % 4 ==0) and (year % 100 != 0):\n",
    "    print(\"{0} is a leap year\".format(year))\n",
    "\n",
    "# if not divided by both 400 (century year) and 4 (not century year)\n",
    "# year is not leap year\n",
    "else:\n",
    "    print(\"{0} is not a leap year\".format(year))\n",
    "\n",
    "\n",
    "   \n"
   ]
  },
  {
   "cell_type": "code",
   "execution_count": 1,
   "id": "d28ad493-6f1b-4783-84e1-88413e200c0c",
   "metadata": {},
   "outputs": [],
   "source": [
    "#6. Write a program to classify a triangle based on its sides' lengths."
   ]
  },
  {
   "cell_type": "code",
   "execution_count": 2,
   "id": "d54bdc02-4718-4c08-9271-e529f6133ac3",
   "metadata": {},
   "outputs": [
    {
     "name": "stdin",
     "output_type": "stream",
     "text": [
      "enter the side of tringle 2\n",
      "enter the side of tringle 3\n",
      "enter the side of tringle 5\n"
     ]
    },
    {
     "name": "stdout",
     "output_type": "stream",
     "text": [
      "given triangle is scalene triangle\n"
     ]
    }
   ],
   "source": [
    "side1 = int(input('enter the side of tringle'))\n",
    "side2 = int(input('enter the side of tringle'))\n",
    "side3 = int(input('enter the side of tringle'))\n",
    "if side1 == side2 == side3:\n",
    "    print('given triangle is equilateral triangle')\n",
    "elif side1 == side2 != side3:\n",
    "    print('given triangle is isoceles triangle')\n",
    "elif side1 != side2 != side3:\n",
    "    print('given triangle is scalene triangle')\n"
   ]
  },
  {
   "cell_type": "code",
   "execution_count": 3,
   "id": "9aa3b012-73d8-42d7-aedf-f4e151f701ed",
   "metadata": {},
   "outputs": [],
   "source": [
    "#7. Build a program that determines the largest of three given numbers."
   ]
  },
  {
   "cell_type": "code",
   "execution_count": 4,
   "id": "24503762-4c53-4216-befe-b4df0af14eb8",
   "metadata": {},
   "outputs": [
    {
     "name": "stdout",
     "output_type": "stream",
     "text": [
      "largest number is 30\n"
     ]
    }
   ],
   "source": [
    "num1=10\n",
    "num2=20\n",
    "num3=30\n",
    "\n",
    "\n",
    "if (num1>=num2) and (num1>=num3):\n",
    "    largest=num1\n",
    "    print(\"largest number is\",largest)\n",
    "elif (num2>=num1) and (num2>=num3):\n",
    "    largest=num2\n",
    "    print(\"largest number is\",largest)\n",
    "else:\n",
    "    largest=num3\n",
    "    print(\"largest number is\",largest)"
   ]
  },
  {
   "cell_type": "code",
   "execution_count": 5,
   "id": "b2cfb1f0-9de0-444b-ba3e-996a2d049769",
   "metadata": {},
   "outputs": [],
   "source": [
    "#8. Develop a program that checks whether a character is a vowel or a consonant."
   ]
  },
  {
   "cell_type": "code",
   "execution_count": 6,
   "id": "caca293c-2305-44a9-a00d-a563b11ee371",
   "metadata": {},
   "outputs": [
    {
     "name": "stdin",
     "output_type": "stream",
     "text": [
      "enter an character e\n"
     ]
    },
    {
     "name": "stdout",
     "output_type": "stream",
     "text": [
      "e is a vowel\n"
     ]
    }
   ],
   "source": [
    "c = input('enter an character')\n",
    "\n",
    "# checking for vowels\n",
    "if c == 'a' or c == 'e' or c == 'i' or c == 'o' or c == 'u' or c == 'A' or c == 'E' or c == 'I' or c == 'O' or c == 'U':\n",
    "    print(c, \"is a vowel\")  # condition true input is vowel\n",
    "else:\n",
    "    print(c, \"is a consonant\")  # condition true input is consonant\n"
   ]
  },
  {
   "cell_type": "code",
   "execution_count": 7,
   "id": "786c9e0b-d422-4956-962e-3d0e3452855b",
   "metadata": {},
   "outputs": [],
   "source": [
    "#9. Create a program to calculate the total cost of a shopping cart based on discounts."
   ]
  },
  {
   "cell_type": "code",
   "execution_count": 10,
   "id": "27a56e4d-1620-4fcd-9a91-8a3d6ae23b03",
   "metadata": {},
   "outputs": [
    {
     "name": "stdout",
     "output_type": "stream",
     "text": [
      "How many drinks do you want?\n"
     ]
    },
    {
     "name": "stdin",
     "output_type": "stream",
     "text": [
      "Enter number:  2\n"
     ]
    },
    {
     "name": "stdout",
     "output_type": "stream",
     "text": [
      "That will be a total of:  2 rupees\n"
     ]
    }
   ],
   "source": [
    "print( \"How many drinks do you want?\" )\n",
    "\n",
    "drinks = input( \"Enter number: \")\n",
    "\n",
    "total = int(drinks)\n",
    "\n",
    "single = 2.25\n",
    "\n",
    "six = 10\n",
    "\n",
    "single * 6 == six\n",
    "\n",
    "if total > 20:\n",
    "\n",
    "    total * 0.75\n",
    "\n",
    "print( \"That will be a total of: \", total, \"rupees\")"
   ]
  },
  {
   "cell_type": "code",
   "execution_count": 11,
   "id": "4095d6af-19d9-4f0a-b111-717118398f12",
   "metadata": {},
   "outputs": [],
   "source": [
    "#10. Write a program that checks if a given number is even or odd."
   ]
  },
  {
   "cell_type": "code",
   "execution_count": 12,
   "id": "2782a9a4-9480-4564-87ef-d0ebf2d1fa23",
   "metadata": {},
   "outputs": [
    {
     "name": "stdin",
     "output_type": "stream",
     "text": [
      "enter an given number 3274387443743264\n"
     ]
    },
    {
     "name": "stdout",
     "output_type": "stream",
     "text": [
      "given number is even number\n"
     ]
    }
   ],
   "source": [
    "num = int(input('enter an given number'))\n",
    "if num%2 == 0:\n",
    "    print('given number is even number')\n",
    "else:\n",
    "    print('given number is odd number')"
   ]
  },
  {
   "cell_type": "code",
   "execution_count": 13,
   "id": "89078d97-a91a-44e8-ac7a-40fc6827893a",
   "metadata": {},
   "outputs": [],
   "source": [
    "#11. Write a program that calculates the roots of a quadratic equation ."
   ]
  },
  {
   "cell_type": "code",
   "execution_count": 14,
   "id": "4da62746-83f8-4e3c-85de-61c0e8870480",
   "metadata": {},
   "outputs": [
    {
     "name": "stdout",
     "output_type": "stream",
     "text": [
      "Quadratic function : (a * x^2) + b*x + c\n"
     ]
    },
    {
     "name": "stdin",
     "output_type": "stream",
     "text": [
      "Enter the a Number : 2\n",
      "Enter the b Number : 3\n",
      "Enter the c Number : 4\n"
     ]
    },
    {
     "name": "stdout",
     "output_type": "stream",
     "text": [
      "No roots\n"
     ]
    }
   ],
   "source": [
    "from math import sqrt\n",
    " \n",
    "print(\"Quadratic function : (a * x^2) + b*x + c\")\n",
    "a = float(input(\"Enter the a Number :\"))\n",
    "b = float(input(\"Enter the b Number :\"))\n",
    "c = float(input(\"Enter the c Number :\"))\n",
    " \n",
    "r = b**2 - 4*a*c\n",
    " \n",
    "if( r > 0):\n",
    "    num_roots = 2\n",
    "    x1 = (((-b) + sqrt(r))/(2*a))     \n",
    "    x2 = (((-b) - sqrt(r))/(2*a))\n",
    "    print(\"There are Two Roots: \",x1, \"and\",x2)\n",
    "elif(r == 0):\n",
    "    num_roots = 1\n",
    "    x = (-b) / 2*a\n",
    "    print(\"There is one Root: \", x)\n",
    "else:\n",
    "    num_roots = 0\n",
    "    print(\"No roots\")\n",
    "    exit()"
   ]
  },
  {
   "cell_type": "code",
   "execution_count": 1,
   "id": "efc79749-4ab4-466b-8e81-f4554fefca86",
   "metadata": {},
   "outputs": [],
   "source": [
    "#12. Create a program that determines the day of the week based on the day number (1-7)."
   ]
  },
  {
   "cell_type": "code",
   "execution_count": 2,
   "id": "32326428-6a56-4ba9-8a50-c36728b018bc",
   "metadata": {},
   "outputs": [
    {
     "name": "stdin",
     "output_type": "stream",
     "text": [
      "enter a number 7\n"
     ]
    },
    {
     "name": "stdout",
     "output_type": "stream",
     "text": [
      "sunday\n"
     ]
    }
   ],
   "source": [
    "num = int(input('enter a number'))\n",
    "if num == 1:\n",
    "    print('monday')\n",
    "elif num == 2:\n",
    "    print('tuesday')\n",
    "elif num == 3:\n",
    "    print('wednesday')\n",
    "elif num == 4:\n",
    "    print('thursday')\n",
    "elif num == 5:\n",
    "    print('friday')\n",
    "elif num == 6:\n",
    "    print('saturday')\n",
    "elif num == 7:\n",
    "    print('sunday') "
   ]
  },
  {
   "cell_type": "code",
   "execution_count": 3,
   "id": "133a36cc-fdc0-43b3-b919-9e10ff82a1ed",
   "metadata": {},
   "outputs": [],
   "source": [
    "#13. Develop a program that calculates the factorial of a given number using recursion."
   ]
  },
  {
   "cell_type": "code",
   "execution_count": 4,
   "id": "4f635422-c9bf-47c7-ae61-75841e0ffca8",
   "metadata": {},
   "outputs": [
    {
     "name": "stdout",
     "output_type": "stream",
     "text": [
      "Factorial of 5 is 120\n"
     ]
    }
   ],
   "source": [
    "def factorial(n):\n",
    "    if n == 0:\n",
    "        return 1\n",
    "    return n * factorial(n - 1)\n",
    "\n",
    "\n",
    "num = 5\n",
    "print(\"Factorial of\", num, \"is\", factorial(num))"
   ]
  },
  {
   "cell_type": "code",
   "execution_count": 5,
   "id": "b0071399-d84c-4110-963c-2b0934628dbc",
   "metadata": {},
   "outputs": [],
   "source": [
    "#14. Write a program to find the largest among three numbers without using the `max()` function."
   ]
  },
  {
   "cell_type": "code",
   "execution_count": 7,
   "id": "b725a2a5-2618-4849-8f13-503c4639906a",
   "metadata": {},
   "outputs": [
    {
     "name": "stdout",
     "output_type": "stream",
     "text": [
      "maximum number is 30\n"
     ]
    }
   ],
   "source": [
    "num1=10\n",
    "num2=20\n",
    "num3=30\n",
    "\n",
    "\n",
    "if (num1>=num2) and (num1>=num3):\n",
    "    maximum=num1\n",
    "    print(\"maximum number is\",maximum)\n",
    "elif (num2>=num1) and (num2>=num3):\n",
    "    maximum=num2\n",
    "    print(\"maximum number is\",maximum)\n",
    "else:\n",
    "    maximum=num3\n",
    "    print(\"maximum number is\",maximum)"
   ]
  },
  {
   "cell_type": "code",
   "execution_count": 8,
   "id": "82faed16-ca17-492e-9cb6-524a2f9fe2c0",
   "metadata": {},
   "outputs": [],
   "source": [
    "#15. Create a program that simulates a basic ATM transaction menu."
   ]
  },
  {
   "cell_type": "code",
   "execution_count": 5,
   "id": "1f1ac898-4225-4790-a8ac-0f99e86d11ea",
   "metadata": {},
   "outputs": [
    {
     "name": "stdin",
     "output_type": "stream",
     "text": [
      "Please enter your 4-digit pin:  1234\n"
     ]
    },
    {
     "name": "stdout",
     "output_type": "stream",
     "text": [
      "Welcome to the ATM!\n",
      "1. Check balance\n",
      "2. Withdraw cash\n",
      "3. Deposit cash\n",
      "4. Exit\n"
     ]
    },
    {
     "name": "stdin",
     "output_type": "stream",
     "text": [
      "Please choose an option:  1\n"
     ]
    },
    {
     "name": "stdout",
     "output_type": "stream",
     "text": [
      "Your balance is 10000 rupees.\n"
     ]
    }
   ],
   "source": [
    "def atm_operation():\n",
    "    balance = 10000 \n",
    "    pin = 1234 \n",
    "\n",
    "    \n",
    "    user_pin = int(input(\"Please enter your 4-digit pin: \"))\n",
    "\n",
    "    \n",
    "    if user_pin == pin:\n",
    "        \n",
    "        print(\"Welcome to the ATM!\")\n",
    "        print(\"1. Check balance\")\n",
    "        print(\"2. Withdraw cash\")\n",
    "        print(\"3. Deposit cash\")\n",
    "        print(\"4. Exit\")\n",
    "\n",
    "        \n",
    "        option = int(input(\"Please choose an option: \"))\n",
    "        if option in [1, 2, 3, 4]:\n",
    "            if option == 1:\n",
    "                print(f\"Your balance is {balance} rupees.\")\n",
    "            elif option == 2:\n",
    "            \n",
    "                amount = int(input(\"Please enter the amount to withdraw: \"))\n",
    "                if amount > 0 and amount <= balance:\n",
    "                    \n",
    "                    balance -= amount\n",
    "                    print(f\"Please collect your cash of {amount} rupees.\")\n",
    "                    print(f\"Your new balance is {balance} rupees.\")\n",
    "                else:\n",
    "                    \n",
    "                    print(\"Invalid amount. Please try again.\")\n",
    "            elif option == 3:\n",
    "            \n",
    "                amount = int(input(\"Please enter the amount to deposit: \"))\n",
    "                \n",
    "                if amount > 0:\n",
    "        \n",
    "                    balance += amount\n",
    "                    print(f\"You have deposited {amount} rupees.\")\n",
    "                    print(f\"Your new balance is {balance} rupees.\")\n",
    "                else:\n",
    "                    \n",
    "                    print(\"Invalid amount. Please try again.\")\n",
    "            else:\n",
    "            \n",
    "                print(\"Thank you for using the ATM. Have a nice day!\")\n",
    "        else:\n",
    "        \n",
    "            print(\"Invalid option. Please try again.\")\n",
    "    else:\n",
    "    \n",
    "        print(\"Wrong pin. Please try again.\")\n",
    "\n",
    "\n",
    "atm_operation()"
   ]
  },
  {
   "cell_type": "code",
   "execution_count": 6,
   "id": "958ef4b4-1aa5-4b00-b714-f032fa2c78ea",
   "metadata": {},
   "outputs": [],
   "source": [
    "#17. Write a program that calculates the average of a list of numbers, excluding the smallest and largest values.\n"
   ]
  },
  {
   "cell_type": "code",
   "execution_count": 3,
   "id": "fe6a4e4e-1a5f-4c35-98da-acdf2a15a5d9",
   "metadata": {},
   "outputs": [
    {
     "name": "stdout",
     "output_type": "stream",
     "text": [
      "Average of the list = 2.5\n"
     ]
    }
   ],
   "source": [
    "# Python program to get average of a list\n",
    "def Average(lst):\n",
    "    return sum(lst) / len(lst)\n",
    " \n",
    "# Driver Code\n",
    "lst = [1,2,3,4]\n",
    "average = Average(lst)\n",
    " \n",
    "# Printing average of the list\n",
    "print(\"Average of the list =\", round(average, 2))\n"
   ]
  },
  {
   "cell_type": "code",
   "execution_count": 4,
   "id": "0d664fa4-ec66-4ef0-bd65-8157d6f580ee",
   "metadata": {},
   "outputs": [],
   "source": [
    "#18. Develop a program that converts a given temperature from Celsius to Fahrenheit."
   ]
  },
  {
   "cell_type": "code",
   "execution_count": 5,
   "id": "84bd2c51-d4d8-43c8-9139-6c2384c798a5",
   "metadata": {},
   "outputs": [
    {
     "name": "stdin",
     "output_type": "stream",
     "text": [
      "enter the value of temperature in celcius: 23\n"
     ]
    },
    {
     "data": {
      "text/plain": [
       "23.0"
      ]
     },
     "execution_count": 5,
     "metadata": {},
     "output_type": "execute_result"
    }
   ],
   "source": [
    "celcius = float(input('enter the value of temperature in celcius:'))\n",
    "\n",
    "f = (celcius*1.8)+32\n",
    "celcius\n"
   ]
  },
  {
   "cell_type": "code",
   "execution_count": 6,
   "id": "601aa364-5f19-4fe5-abc1-15dac67c23bd",
   "metadata": {},
   "outputs": [],
   "source": [
    "#19. Create a program that simulates a basic calculator for addition, subtraction, multiplication, and division."
   ]
  },
  {
   "cell_type": "code",
   "execution_count": 7,
   "id": "9b3a2727-6578-4f88-8843-807fd81aaaa6",
   "metadata": {},
   "outputs": [
    {
     "name": "stdin",
     "output_type": "stream",
     "text": [
      "enter first number : 2\n",
      "enter operator (+,-,*,/,%) :  +\n",
      "enter second number : 3\n"
     ]
    },
    {
     "name": "stdout",
     "output_type": "stream",
     "text": [
      "5\n"
     ]
    }
   ],
   "source": [
    "first = input(\"enter first number :\")\n",
    "operator = input(\"enter operator (+,-,*,/,%) : \")\n",
    "second = input(\"enter second number :\")\n",
    "\n",
    "first = int(first)\n",
    "second =  int(second)\n",
    "\n",
    "if operator ==  \"+\":\n",
    "    print(first+second)\n",
    "elif operator == \"-\":\n",
    "    print(first-second)\n",
    "elif operator == \"*\":\n",
    "    print(first*second)\n",
    "elif operator == \"/\":\n",
    "    print(first/second)\n",
    "elif operator == \"%\":\n",
    "    print(first%second)\n",
    "\n",
    "else:\n",
    "    print(\"invalid operation\")\n"
   ]
  },
  {
   "cell_type": "code",
   "execution_count": 10,
   "id": "e1254a7f-2b8f-4699-99de-35666a215e51",
   "metadata": {},
   "outputs": [],
   "source": [
    "#20. Write a program that determines the roots of a cubic equation using the Cardano formula."
   ]
  },
  {
   "cell_type": "code",
   "execution_count": null,
   "id": "39e45cae-02c6-40f2-aeab-912570507fe4",
   "metadata": {},
   "outputs": [],
   "source": [
    "#21. Create a program that calculates the sum of the digits of numbers in a list using a list comprehension."
   ]
  },
  {
   "cell_type": "code",
   "execution_count": null,
   "id": "218df58d-9c51-4f12-b79a-655ed76b56ae",
   "metadata": {},
   "outputs": [],
   "source": []
  }
 ],
 "metadata": {
  "kernelspec": {
   "display_name": "Python 3 (ipykernel)",
   "language": "python",
   "name": "python3"
  },
  "language_info": {
   "codemirror_mode": {
    "name": "ipython",
    "version": 3
   },
   "file_extension": ".py",
   "mimetype": "text/x-python",
   "name": "python",
   "nbconvert_exporter": "python",
   "pygments_lexer": "ipython3",
   "version": "3.10.8"
  }
 },
 "nbformat": 4,
 "nbformat_minor": 5
}
